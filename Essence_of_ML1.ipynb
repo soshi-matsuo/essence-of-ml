{
 "cells": [
  {
   "cell_type": "markdown",
   "metadata": {},
   "source": [
    "# act2 review of Python"
   ]
  },
  {
   "cell_type": "markdown",
   "metadata": {},
   "source": [
    "## container"
   ]
  },
  {
   "cell_type": "markdown",
   "metadata": {},
   "source": [
    "### 1.list"
   ]
  },
  {
   "cell_type": "code",
   "execution_count": 15,
   "metadata": {},
   "outputs": [
    {
     "data": {
      "text/plain": [
       "[3, 3, 4, 3, 3, 4, 3, 3, 4, 3, 3, 4, 3, 3, 4]"
      ]
     },
     "execution_count": 15,
     "metadata": {},
     "output_type": "execute_result"
    }
   ],
   "source": [
    "# append(),insert(),extend()は破壊的操作（もとのリストが書き換わる）\n",
    "a = [3,3,4,3,3,4,3,3,4]\n",
    "b = []\n",
    "b.append(3)\n",
    "b.insert(1,3)\n",
    "b.insert(2,4)\n",
    "a.extend(b)\n",
    "a + b\n"
   ]
  },
  {
   "cell_type": "code",
   "execution_count": 17,
   "metadata": {},
   "outputs": [
    {
     "data": {
      "text/plain": [
       "[3, 3, 4, 3, 3, 4, 3, 3, 4, 3, 3, 4]"
      ]
     },
     "execution_count": 17,
     "metadata": {},
     "output_type": "execute_result"
    }
   ],
   "source": [
    "# 単にリストを代入すると参照の代入になる\n",
    "c = a\n",
    "c"
   ]
  },
  {
   "cell_type": "code",
   "execution_count": 18,
   "metadata": {},
   "outputs": [
    {
     "data": {
      "text/plain": [
       "[3, 3, 4, 3, 3, 4, 3, 3, 4, 3, 3, 4, 3]"
      ]
     },
     "execution_count": 18,
     "metadata": {},
     "output_type": "execute_result"
    }
   ],
   "source": [
    "# cに変更を加えると、参照元のリストaにも変更が反映される\n",
    "c.append(3)\n",
    "a"
   ]
  },
  {
   "cell_type": "code",
   "execution_count": 20,
   "metadata": {},
   "outputs": [
    {
     "data": {
      "text/plain": [
       "[3, 3, 4, 3, 3, 4, 3, 3, 4, 3, 3, 4, 3]"
      ]
     },
     "execution_count": 20,
     "metadata": {},
     "output_type": "execute_result"
    }
   ],
   "source": [
    "# 内容が同じ新しいリストを作るには、スライシングで要素を指定して代入する\n",
    "d = a[:]\n",
    "d"
   ]
  },
  {
   "cell_type": "code",
   "execution_count": 29,
   "metadata": {},
   "outputs": [
    {
     "data": {
      "text/plain": [
       "[3, 3, 4, 3, 3, 4, 3, 3, 4, 3, 3, 4, 3, 3]"
      ]
     },
     "execution_count": 29,
     "metadata": {},
     "output_type": "execute_result"
    }
   ],
   "source": [
    "d.append(3)\n",
    "d"
   ]
  },
  {
   "cell_type": "code",
   "execution_count": 30,
   "metadata": {},
   "outputs": [
    {
     "data": {
      "text/plain": [
       "[3, 3, 4, 3, 3, 4, 3, 3, 4, 3, 3, 4, 3]"
      ]
     },
     "execution_count": 30,
     "metadata": {},
     "output_type": "execute_result"
    }
   ],
   "source": [
    "# cの場合と違い、dに変更を加えてもaには反映されない\n",
    "a"
   ]
  },
  {
   "cell_type": "code",
   "execution_count": 31,
   "metadata": {},
   "outputs": [
    {
     "data": {
      "text/plain": [
       "[0, 1, 4, 9, 16]"
      ]
     },
     "execution_count": 31,
     "metadata": {},
     "output_type": "execute_result"
    }
   ],
   "source": [
    "#　リスト内包表記\n",
    "l = [i**2 for i in range(5)]\n",
    "l"
   ]
  },
  {
   "cell_type": "code",
   "execution_count": 32,
   "metadata": {},
   "outputs": [
    {
     "data": {
      "text/plain": [
       "[[0, 1, 2, 3, 4],\n",
       " [10, 11, 12, 13, 14],\n",
       " [20, 21, 22, 23, 24],\n",
       " [30, 31, 32, 33, 34],\n",
       " [40, 41, 42, 43, 44]]"
      ]
     },
     "execution_count": 32,
     "metadata": {},
     "output_type": "execute_result"
    }
   ],
   "source": [
    "# ネストも可能\n",
    "\n",
    "# iを10倍してj=0~4を足したリストを、iが0~4の場合ごとに作る\n",
    "m = [[i * 10 + j for j in range(5)] for i in range(5)]\n",
    "m"
   ]
  },
  {
   "cell_type": "markdown",
   "metadata": {},
   "source": [
    "### 2.tuple"
   ]
  },
  {
   "cell_type": "code",
   "execution_count": 33,
   "metadata": {},
   "outputs": [
    {
     "data": {
      "text/plain": [
       "(1, 'a', 1.5)"
      ]
     },
     "execution_count": 33,
     "metadata": {},
     "output_type": "execute_result"
    }
   ],
   "source": [
    "# 要素を()でくくるか、くくらずにコンマで並べて代入するとタプル（不変型のコンテナ）になる\n",
    "t = 1, 'a', 1.5\n",
    "t"
   ]
  },
  {
   "cell_type": "code",
   "execution_count": 34,
   "metadata": {},
   "outputs": [
    {
     "data": {
      "text/plain": [
       "((1, 'a', 1.5), 1, 2)"
      ]
     },
     "execution_count": 34,
     "metadata": {},
     "output_type": "execute_result"
    }
   ],
   "source": [
    "u = t,1,2\n",
    "u"
   ]
  },
  {
   "cell_type": "code",
   "execution_count": 35,
   "metadata": {},
   "outputs": [
    {
     "ename": "TypeError",
     "evalue": "'tuple' object does not support item assignment",
     "output_type": "error",
     "traceback": [
      "\u001b[0;31m---------------------------------------------------------------------------\u001b[0m",
      "\u001b[0;31mTypeError\u001b[0m                                 Traceback (most recent call last)",
      "\u001b[0;32m<ipython-input-35-44c8492136a9>\u001b[0m in \u001b[0;36m<module>\u001b[0;34m\u001b[0m\n\u001b[0;32m----> 1\u001b[0;31m \u001b[0mu\u001b[0m\u001b[0;34m[\u001b[0m\u001b[0;36m2\u001b[0m\u001b[0;34m]\u001b[0m \u001b[0;34m=\u001b[0m \u001b[0;36m8\u001b[0m\u001b[0;34m\u001b[0m\u001b[0m\n\u001b[0m",
      "\u001b[0;31mTypeError\u001b[0m: 'tuple' object does not support item assignment"
     ]
    }
   ],
   "source": [
    "# タプルの値は変更できない（イミュータブル）\n",
    "u[2] = 8"
   ]
  },
  {
   "cell_type": "code",
   "execution_count": 37,
   "metadata": {},
   "outputs": [
    {
     "data": {
      "text/plain": [
       "23"
      ]
     },
     "execution_count": 37,
     "metadata": {},
     "output_type": "execute_result"
    }
   ],
   "source": [
    "#　要素数1のタプルは、代入の際に後ろに,をつけて表す\n",
    "#　この場合コンマ無しで代入すると一つのint型として認識される\n",
    "s = (23,)\n",
    "s"
   ]
  },
  {
   "cell_type": "code",
   "execution_count": null,
   "metadata": {},
   "outputs": [],
   "source": [
    "\"\"\"\n",
    "リスト、タプル、文字列など、[]で参照、スライシングができるようなデータ型を\n",
    "シーケンス型と呼ぶ。\n",
    "定義としては、「複数の値を順番に並べたものをひとかたまりとして持つデータ構造」\n",
    "for文のinの後に用いると、各要素をスキャンできる\n",
    "\"\"\""
   ]
  },
  {
   "cell_type": "markdown",
   "metadata": {},
   "source": [
    "### 3.dictionary"
   ]
  },
  {
   "cell_type": "code",
   "execution_count": 41,
   "metadata": {},
   "outputs": [
    {
     "data": {
      "text/plain": [
       "{'x': 1, 'y': 2, 'z': 3}"
      ]
     },
     "execution_count": 41,
     "metadata": {},
     "output_type": "execute_result"
    }
   ],
   "source": [
    "#　キー：バリュー型のコンテナ\n",
    "#　キーはイミュータブル、バリューはミュータブル\n",
    "d = {}\n",
    "d['x'] = 1\n",
    "d['y'] = 2\n",
    "d['z'] = 3\n",
    "d"
   ]
  },
  {
   "cell_type": "code",
   "execution_count": 42,
   "metadata": {},
   "outputs": [
    {
     "name": "stdout",
     "output_type": "stream",
     "text": [
      "x\n",
      "y\n",
      "z\n"
     ]
    }
   ],
   "source": [
    "#　辞書dのキーを取り出す\n",
    "for k in d:\n",
    "    print(k)"
   ]
  },
  {
   "cell_type": "code",
   "execution_count": 43,
   "metadata": {},
   "outputs": [
    {
     "name": "stdout",
     "output_type": "stream",
     "text": [
      "('x', 1)\n",
      "('y', 2)\n",
      "('z', 3)\n"
     ]
    }
   ],
   "source": [
    "#　辞書dのキー、バリューをタプルとして取り出す\n",
    "for e in d.items():\n",
    "    print(e)"
   ]
  },
  {
   "cell_type": "markdown",
   "metadata": {},
   "source": [
    "### 4.set"
   ]
  },
  {
   "cell_type": "code",
   "execution_count": 62,
   "metadata": {},
   "outputs": [
    {
     "data": {
      "text/plain": [
       "{1, 2, 3}"
      ]
     },
     "execution_count": 62,
     "metadata": {},
     "output_type": "execute_result"
    }
   ],
   "source": [
    "# set型は要素の順番が存在せず、値の重複を許さないコンテナ\n",
    "# 順番が存在しないので、インデックス指定やスライシングはできない\n",
    "\n",
    "# add(),remove()で要素の追加、削除が可能（重複していた場合は無視される）\n",
    "a = set()\n",
    "a.add(1)\n",
    "a.add(2)\n",
    "a.add(3)\n",
    "a.add(3)\n",
    "a"
   ]
  },
  {
   "cell_type": "code",
   "execution_count": 49,
   "metadata": {},
   "outputs": [
    {
     "data": {
      "text/plain": [
       "True"
      ]
     },
     "execution_count": 49,
     "metadata": {},
     "output_type": "execute_result"
    }
   ],
   "source": [
    "# ある値が集合の要素に含まれるか否かの判定がすばやくできる\n",
    "2 in a"
   ]
  },
  {
   "cell_type": "code",
   "execution_count": 50,
   "metadata": {},
   "outputs": [
    {
     "data": {
      "text/plain": [
       "{2, 3, 4}"
      ]
     },
     "execution_count": 50,
     "metadata": {},
     "output_type": "execute_result"
    }
   ],
   "source": [
    "b = {2,3,4}\n",
    "b"
   ]
  },
  {
   "cell_type": "code",
   "execution_count": 56,
   "metadata": {},
   "outputs": [
    {
     "data": {
      "text/plain": [
       "{2, 3}"
      ]
     },
     "execution_count": 56,
     "metadata": {},
     "output_type": "execute_result"
    }
   ],
   "source": [
    "# aとbの積集合（どちらにも存在する値の集合）は&で表す\n",
    "a & b"
   ]
  },
  {
   "cell_type": "code",
   "execution_count": 57,
   "metadata": {},
   "outputs": [
    {
     "data": {
      "text/plain": [
       "{1, 2, 3, 4}"
      ]
     },
     "execution_count": 57,
     "metadata": {},
     "output_type": "execute_result"
    }
   ],
   "source": [
    "# 和集合（どちらかに含まれる値の集合）は|で表す\n",
    "a | b"
   ]
  },
  {
   "cell_type": "code",
   "execution_count": 58,
   "metadata": {},
   "outputs": [
    {
     "data": {
      "text/plain": [
       "{1}"
      ]
     },
     "execution_count": 58,
     "metadata": {},
     "output_type": "execute_result"
    }
   ],
   "source": [
    "# 差集合はｰで表す\n",
    "a - b"
   ]
  },
  {
   "cell_type": "code",
   "execution_count": 61,
   "metadata": {},
   "outputs": [
    {
     "name": "stdout",
     "output_type": "stream",
     "text": [
      "1\n",
      "2\n",
      "3\n"
     ]
    }
   ],
   "source": [
    "# 繰り返し処理\n",
    "for x in a:\n",
    "    print(x)"
   ]
  },
  {
   "cell_type": "markdown",
   "metadata": {},
   "source": [
    "## function"
   ]
  },
  {
   "cell_type": "code",
   "execution_count": 63,
   "metadata": {},
   "outputs": [
    {
     "name": "stdout",
     "output_type": "stream",
     "text": [
      "40\n"
     ]
    }
   ],
   "source": [
    "def f(a, b):\n",
    "    return a + b\n",
    "c = f(10,30)\n",
    "print(c)"
   ]
  },
  {
   "cell_type": "code",
   "execution_count": 64,
   "metadata": {},
   "outputs": [
    {
     "name": "stdout",
     "output_type": "stream",
     "text": [
      "210\n"
     ]
    }
   ],
   "source": [
    "# 引数にデフォルトを設定することも可能\n",
    "# 引数が与えられない場合、デフォルト値が使われる\n",
    "def g(a, b=200):\n",
    "    return a + b\n",
    "c = g(10)\n",
    "print(c)"
   ]
  },
  {
   "cell_type": "code",
   "execution_count": 65,
   "metadata": {},
   "outputs": [
    {
     "name": "stdout",
     "output_type": "stream",
     "text": [
      "115\n"
     ]
    }
   ],
   "source": [
    "d = g(70,45)\n",
    "print(d)"
   ]
  },
  {
   "cell_type": "code",
   "execution_count": 66,
   "metadata": {},
   "outputs": [
    {
     "name": "stdout",
     "output_type": "stream",
     "text": [
      "92\n",
      "103\n"
     ]
    }
   ],
   "source": [
    "# オプション引数のどれに値を渡すかを指定することもできる\n",
    "def h(a, b=3, c=9):\n",
    "    return a+b+c\n",
    "\n",
    "e = h(3, b=80) # bを指定して値を渡す\n",
    "print(e)\n",
    "\n",
    "i = h(0, c=100) # cを指定して値を渡す\n",
    "print(i)"
   ]
  },
  {
   "cell_type": "markdown",
   "metadata": {},
   "source": [
    "## module, file operation"
   ]
  },
  {
   "cell_type": "code",
   "execution_count": 67,
   "metadata": {},
   "outputs": [
    {
     "data": {
      "text/plain": [
       "2018"
      ]
     },
     "execution_count": 67,
     "metadata": {},
     "output_type": "execute_result"
    }
   ],
   "source": [
    "# モジュールとは、関数、クラス、定数などを集めたもの\n",
    "# datetimeモジュールのインポート\n",
    "import datetime\n",
    "d = datetime.date(2018, 11, 3)\n",
    "\n",
    "# yearはdateクラスのプロパティ（属性）\n",
    "d.year"
   ]
  },
  {
   "cell_type": "code",
   "execution_count": 68,
   "metadata": {},
   "outputs": [
    {
     "data": {
      "text/plain": [
       "5"
      ]
     },
     "execution_count": 68,
     "metadata": {},
     "output_type": "execute_result"
    }
   ],
   "source": [
    "# weekday()はdateクラスのメソッドで、weekday属性を呼び出すもの\n",
    "d.weekday()"
   ]
  },
  {
   "cell_type": "code",
   "execution_count": 69,
   "metadata": {},
   "outputs": [
    {
     "data": {
      "text/plain": [
       "datetime.date"
      ]
     },
     "execution_count": 69,
     "metadata": {},
     "output_type": "execute_result"
    }
   ],
   "source": [
    "# dはdatetimeモジュールのdateクラスのインスタンス\n",
    "type(d)"
   ]
  },
  {
   "cell_type": "code",
   "execution_count": 70,
   "metadata": {},
   "outputs": [
    {
     "data": {
      "text/plain": [
       "datetime.date(2018, 1, 1)"
      ]
     },
     "execution_count": 70,
     "metadata": {},
     "output_type": "execute_result"
    }
   ],
   "source": [
    "# あるモジュールから、クラス、関数などを指定して呼びたい場合\n",
    "# from module import classのように記述する\n",
    "\n",
    "from datetime import date\n",
    "e = date(2018, 1, 1)\n",
    "e"
   ]
  },
  {
   "cell_type": "code",
   "execution_count": 71,
   "metadata": {},
   "outputs": [
    {
     "data": {
      "text/plain": [
       "datetime.date(2017, 12, 31)"
      ]
     },
     "execution_count": 71,
     "metadata": {},
     "output_type": "execute_result"
    }
   ],
   "source": [
    "# あるモジュールを明示したいが、名前が長くて面倒な場合\n",
    "# import module as ~~とすれば任意の略称でモジュールを扱える\n",
    "\n",
    "import datetime as dt\n",
    "f = dt.date(2017, 12, 31)\n",
    "f"
   ]
  },
  {
   "cell_type": "code",
   "execution_count": null,
   "metadata": {},
   "outputs": [],
   "source": [
    "\"\"\"\n",
    "モジュールは.pyファイルに上述の要素がまとめられたものなので、\n",
    "自分で拡張子.pyファイルにクラスなどを記述すれば自作することもできる\n",
    "\n",
    "自作モジュールをインポートしようとする場合、同じディレクトリが探索される\n",
    "datetime, mathなどは標準モジュールと呼ばれ、システム内部の特定ディレクトリに位置する\n",
    "\n",
    "モジュールをインポートする際、グローバル領域の文（クラスや関数外の文）は自動で実行される\n",
    "これを避ける場合、インポート元のファイルに以下のように記述して、\n",
    "自動実行したくない部分をmain関数として定義すればOK\n",
    "\"\"\"\n",
    "\n",
    "# if __name__ == '__main__':\n",
    "    # main()\n",
    "    \n",
    "\"\"\"\n",
    "このif文は、そのファイルがモジュールとしてインポートされずに直接実行された場合を意味する\n",
    "\"\"\""
   ]
  },
  {
   "cell_type": "code",
   "execution_count": 75,
   "metadata": {},
   "outputs": [],
   "source": [
    "# ファイルを扱う場合、open()&close()や、with open()文を使う\n",
    "#　open('ファイル名','オプション（デフォはr）')のように記述\n",
    "\n",
    "# zen.txtを読み取り用として開く\n",
    "with open('zen.txt') as f:\n",
    "    # zen_cp.txtを書き込み用として開く\n",
    "    with open('zen_cp.txt','w') as fw:\n",
    "        # zen.txtを一行ずつ、改行（'\\n'）を削除してfw=zen_cp.txtに書き込む\n",
    "        for line in f:\n",
    "            print(line, end='', file=fw)"
   ]
  },
  {
   "cell_type": "code",
   "execution_count": 76,
   "metadata": {},
   "outputs": [
    {
     "data": {
      "text/plain": [
       "datetime.date(2018, 1, 1)"
      ]
     },
     "execution_count": 76,
     "metadata": {},
     "output_type": "execute_result"
    }
   ],
   "source": [
    "# pickleモジュール\n",
    "# ファイル保存、復元を行うのに適したモジュール\n",
    "# dump,loadメソッドで書き込み、読み込みを行う\n",
    "# 書き込み、読み込みの際はバイナリ形式を指定すると動作が早い\n",
    "\n",
    "from datetime import date\n",
    "import pickle\n",
    "\n",
    "x = date(2018, 1, 1)\n",
    "\n",
    "with open('gantan.pkl', 'wb') as f:\n",
    "    pickle.dump(x, f, -1)\n",
    "    \n",
    "with open('gantan.pkl', 'rb') as f:\n",
    "    y = pickle.load(f)\n",
    "    \n",
    "y"
   ]
  },
  {
   "cell_type": "code",
   "execution_count": 78,
   "metadata": {},
   "outputs": [
    {
     "name": "stdout",
     "output_type": "stream",
     "text": [
      "18\n"
     ]
    }
   ],
   "source": [
    "# csv\n",
    "\n",
    "# csvの読み込みもwithメソッドを使える\n",
    "# readerオブジェクトを用いてファイルを読み込み、next関数を使って一行読み進める\n",
    "# for文を使い、各行ごとの2列目の数字をsに加算代入していく\n",
    "\n",
    "import csv\n",
    "\n",
    "s = 0\n",
    "\n",
    "with open('sample.csv')as f:\n",
    "    reader = csv.reader(f)\n",
    "    next(reader)\n",
    "    for row in reader:\n",
    "         s += int(row[1])\n",
    "            \n",
    "print(s)"
   ]
  },
  {
   "cell_type": "code",
   "execution_count": 86,
   "metadata": {},
   "outputs": [],
   "source": [
    "# 書き込みも可能　\n",
    "# 以下のようにwriterクラスのインスタンスを作り、dataを行ごとにwriterowメソッドで書き込む\n",
    "import csv\n",
    "\n",
    "data = [[1,'a',1.1],\n",
    "        [2,'b',1.2],\n",
    "        [3,'c',1.3]]\n",
    "\n",
    "with open('output.csv','w') as f:\n",
    "    wr = csv.writer(f)\n",
    "    for row in data:\n",
    "        wr.writerow(row)\n"
   ]
  },
  {
   "cell_type": "code",
   "execution_count": 99,
   "metadata": {},
   "outputs": [
    {
     "data": {
      "text/plain": [
       "str"
      ]
     },
     "execution_count": 99,
     "metadata": {},
     "output_type": "execute_result"
    }
   ],
   "source": [
    "# json\n",
    "# 'key':value = member で構成されたデータの記述形式（データ型ではない！）\n",
    "# データ型としては、strやdictとして表される\n",
    "\n",
    "# 辞書とリストのネスト構造のdictデータは、dumpsでjson記法の文字列に変換できる\n",
    "# （dumpはファイル書き込みであることに注意）\n",
    "\n",
    "import json\n",
    "data = {'a':1,\n",
    "        'b':'x',\n",
    "        'c':[1,2,3],\n",
    "        'd':{'a':1,'b':2}\n",
    "       }\n",
    "data2 = json.dumps(data)\n",
    "type(data2)"
   ]
  },
  {
   "cell_type": "code",
   "execution_count": 94,
   "metadata": {},
   "outputs": [
    {
     "data": {
      "text/plain": [
       "dict"
      ]
     },
     "execution_count": 94,
     "metadata": {},
     "output_type": "execute_result"
    }
   ],
   "source": [
    "# loadsを使うと、json記法の文字列は辞書型へ変換される\n",
    "#（loadはファイル読み込み）\n",
    "\n",
    "data3 = json.loads(data2)\n",
    "type(data3)"
   ]
  },
  {
   "cell_type": "markdown",
   "metadata": {},
   "source": [
    "## exception"
   ]
  },
  {
   "cell_type": "code",
   "execution_count": 104,
   "metadata": {},
   "outputs": [
    {
     "name": "stdout",
     "output_type": "stream",
     "text": [
      "Index error!:list index out of range\n"
     ]
    }
   ],
   "source": [
    "# try-except\n",
    "# tryの処理中に例外が検知された場合に、どんな処理をするかをexceptで指定できる\n",
    "# except ~ as構文で、例外のインスタンスを変数として受け取ることができる\n",
    "\n",
    "d = [3,4,6,7]\n",
    "\n",
    "try:\n",
    "    print(d[5])\n",
    "except IndexError as err:\n",
    "    print('Index error!:{}'.format(err))"
   ]
  },
  {
   "cell_type": "code",
   "execution_count": 105,
   "metadata": {},
   "outputs": [
    {
     "name": "stdout",
     "output_type": "stream",
     "text": [
      "<class 'IndexError'>\n",
      "list index out of range\n"
     ]
    }
   ],
   "source": [
    "# すべての例外を受け取り、かつその内容を確認するにはexcept句でExceptionを指定する\n",
    "# ほぼすべての例外はExceptionクラスを継承しているので、この記法で受け取れる\n",
    "\n",
    "d = [3,4,6,7]\n",
    "\n",
    "try:\n",
    "    print(d[5])\n",
    "except Exception as err:\n",
    "    print(type(err))\n",
    "    print(err)\n",
    "    "
   ]
  },
  {
   "cell_type": "code",
   "execution_count": null,
   "metadata": {},
   "outputs": [],
   "source": []
  }
 ],
 "metadata": {
  "kernelspec": {
   "display_name": "pydata",
   "language": "python",
   "name": "pydata"
  },
  "language_info": {
   "codemirror_mode": {
    "name": "ipython",
    "version": 3
   },
   "file_extension": ".py",
   "mimetype": "text/x-python",
   "name": "python",
   "nbconvert_exporter": "python",
   "pygments_lexer": "ipython3",
   "version": "3.6.6"
  }
 },
 "nbformat": 4,
 "nbformat_minor": 2
}
